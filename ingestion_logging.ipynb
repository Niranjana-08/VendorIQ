{
 "cells": [
  {
   "cell_type": "code",
   "execution_count": 1,
   "id": "5f414a0e",
   "metadata": {},
   "outputs": [],
   "source": [
    "import os\n",
    "import pandas as pd\n",
    "from sqlalchemy import create_engine\n",
    "import logging\n",
    "import time\n",
    "\n",
    "# Ensure logs directory exists\n",
    "os.makedirs(\"logs\", exist_ok=True)\n",
    "\n",
    "# Only call basicConfig ONCE, at the start\n",
    "logging.basicConfig(\n",
    "    filename=\"logs/ingestion_db.log\",\n",
    "    level=logging.DEBUG,\n",
    "    format=\"%(asctime)s %(levelname)s %(message)s\",\n",
    "    filemode=\"a\"\n",
    ")\n",
    "\n",
    "engine = create_engine('sqlite:///inventory.db')\n",
    "\n",
    "def ingest_db(df, table_name, engine):\n",
    "    '''this fn will ingest the dataframe into database table'''\n",
    "    df.to_sql(table_name, con=engine, if_exists='replace', index=False)\n",
    "\n",
    "def load_raw_data():\n",
    "    '''this fn will load the csvs as dataframes and ingest into db'''\n",
    "    start = time.time()\n",
    "    for file in os.listdir('data'):\n",
    "        if '.csv' in file:\n",
    "            df = pd.read_csv('data/' + file)\n",
    "            logging.info(f'Ingesting {file} in db')  # This is fine\n",
    "            ingest_db(df, file[:-4], engine)\n",
    "    end = time.time()\n",
    "    total_time = (end-start)/60\n",
    "    logging.info('Ingestion Complete')    \n",
    "    logging.info(f'\\nTotal Time Taken: {total_time} minutes')\n",
    "\n",
    "if __name__ == '__main__':\n",
    "    load_raw_data()\n"
   ]
  },
  {
   "cell_type": "code",
   "execution_count": null,
   "id": "1c3bcc84",
   "metadata": {},
   "outputs": [],
   "source": []
  }
 ],
 "metadata": {
  "kernelspec": {
   "display_name": "Python 3 (ipykernel)",
   "language": "python",
   "name": "python3"
  },
  "language_info": {
   "codemirror_mode": {
    "name": "ipython",
    "version": 3
   },
   "file_extension": ".py",
   "mimetype": "text/x-python",
   "name": "python",
   "nbconvert_exporter": "python",
   "pygments_lexer": "ipython3",
   "version": "3.8.11"
  }
 },
 "nbformat": 4,
 "nbformat_minor": 5
}
